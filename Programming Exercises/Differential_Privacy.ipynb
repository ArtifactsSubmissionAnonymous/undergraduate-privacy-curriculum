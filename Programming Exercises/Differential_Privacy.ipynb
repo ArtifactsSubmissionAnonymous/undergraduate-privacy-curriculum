{
 "cells": [
  {
   "cell_type": "markdown",
   "id": "0cc180ad-1e05-47e3-89a5-34ff27fe42de",
   "metadata": {},
   "source": [
    "## Differential Privacy"
   ]
  },
  {
   "cell_type": "markdown",
   "id": "8f868295-35c1-49b9-98d3-9ed61b9fc92a",
   "metadata": {
    "tags": []
   },
   "source": [
    "Let's take the same dataset we took for pseudonimisation. <br>\n",
    "Suppose this data is requested by reserachers in the social science department.<br> \n",
    "They want to analyse the mental health of the undergraduates. <br>\n",
    "\n",
    "-  Applying psuedonimysation is not privacy preserving enough.<br>\n",
    "-  K-anonymity reduces individual level query analysis (because they are grouped).<br>\n",
    "-  And also it still has the vulnerability to linkage attacks. <br>\n",
    "-  We will apply differential privacy to the dataset query results. <br>\n",
    "-  In this way, we also do not need to share the dataset with outsiders. <br>"
   ]
  },
  {
   "cell_type": "code",
   "execution_count": 1,
   "id": "d02417da-bc4b-46cd-9a5f-725ea8edb142",
   "metadata": {
    "tags": []
   },
   "outputs": [],
   "source": [
    "#install only if you have not installed before\n",
    "#If you have problems with !pip use !pip3 or %pip and recheck\n",
    "#%pip install pandas\n",
    "#%pip install numpy\n",
    "#!pip3 install matplotlib\n",
    "#!pip3 install seaborn\n",
    "\n",
    "#Importing the libraries\n",
    "import pandas as pd\n",
    "import numpy as np\n",
    "import matplotlib.pyplot as plt\n",
    "import seaborn as sns\n",
    "from datetime import datetime\n",
    "import math"
   ]
  },
  {
   "cell_type": "markdown",
   "id": "1701a64b-696f-4dc5-b079-6f4113e0e786",
   "metadata": {},
   "source": [
    "#### The assignment 2 is using a different version of the counseling_dataset.csv\n",
    "\n",
    "Please use the correct dataset from Assignment 2 in Canvas for the assignment (not for this exercise)"
   ]
  },
  {
   "cell_type": "code",
   "execution_count": 2,
   "id": "d92f00fe-4b5e-470d-8217-2ed96086338a",
   "metadata": {},
   "outputs": [
    {
     "name": "stdout",
     "output_type": "stream",
     "text": [
      "<class 'pandas.core.frame.DataFrame'>\n",
      "RangeIndex: 500 entries, 0 to 499\n",
      "Data columns (total 24 columns):\n",
      " #   Column             Non-Null Count  Dtype \n",
      "---  ------             --------------  ----- \n",
      " 0   Full Name          500 non-null    object\n",
      " 1   Student ID         500 non-null    object\n",
      " 2   Email              500 non-null    object\n",
      " 3   Preferred Email    500 non-null    object\n",
      " 4   Mobile Number      500 non-null    int64 \n",
      " 5   ZIP                500 non-null    int64 \n",
      " 6   DoB                500 non-null    object\n",
      " 7   Sessions Offered   500 non-null    int64 \n",
      " 8   Sessions Attended  500 non-null    int64 \n",
      " 9   Gender             500 non-null    object\n",
      " 10  Ethnicity          500 non-null    object\n",
      " 11  Study Field        500 non-null    object\n",
      " 12  Sexual Abuse       500 non-null    int64 \n",
      " 13  Suicidal           500 non-null    int64 \n",
      " 14  Self Harm          500 non-null    int64 \n",
      " 15  Anxiety            500 non-null    int64 \n",
      " 16  Depression         500 non-null    int64 \n",
      " 17  Eating Disorder    500 non-null    int64 \n",
      " 18  Health             500 non-null    int64 \n",
      " 19  Risk to Others     500 non-null    int64 \n",
      " 20  Anger              500 non-null    int64 \n",
      " 21  Alcohol            500 non-null    int64 \n",
      " 22  Drugs              500 non-null    int64 \n",
      " 23  Smoking            500 non-null    int64 \n",
      "dtypes: int64(16), object(8)\n",
      "memory usage: 93.9+ KB\n"
     ]
    }
   ],
   "source": [
    "#Load the dataset\n",
    "data = pd.read_csv('counseling_dataset.csv')\n",
    "data.info()"
   ]
  },
  {
   "cell_type": "code",
   "execution_count": 3,
   "id": "25eac468-05ca-4ba2-a7fa-cf67927835c7",
   "metadata": {},
   "outputs": [
    {
     "data": {
      "text/html": [
       "<div>\n",
       "<style scoped>\n",
       "    .dataframe tbody tr th:only-of-type {\n",
       "        vertical-align: middle;\n",
       "    }\n",
       "\n",
       "    .dataframe tbody tr th {\n",
       "        vertical-align: top;\n",
       "    }\n",
       "\n",
       "    .dataframe thead th {\n",
       "        text-align: right;\n",
       "    }\n",
       "</style>\n",
       "<table border=\"1\" class=\"dataframe\">\n",
       "  <thead>\n",
       "    <tr style=\"text-align: right;\">\n",
       "      <th></th>\n",
       "      <th>Full Name</th>\n",
       "      <th>Student ID</th>\n",
       "      <th>Email</th>\n",
       "      <th>Preferred Email</th>\n",
       "      <th>Mobile Number</th>\n",
       "      <th>ZIP</th>\n",
       "      <th>DoB</th>\n",
       "      <th>Sessions Offered</th>\n",
       "      <th>Sessions Attended</th>\n",
       "      <th>Gender</th>\n",
       "      <th>...</th>\n",
       "      <th>Self Harm</th>\n",
       "      <th>Anxiety</th>\n",
       "      <th>Depression</th>\n",
       "      <th>Eating Disorder</th>\n",
       "      <th>Health</th>\n",
       "      <th>Risk to Others</th>\n",
       "      <th>Anger</th>\n",
       "      <th>Alcohol</th>\n",
       "      <th>Drugs</th>\n",
       "      <th>Smoking</th>\n",
       "    </tr>\n",
       "  </thead>\n",
       "  <tbody>\n",
       "    <tr>\n",
       "      <th>0</th>\n",
       "      <td>David Green-Pickering</td>\n",
       "      <td>dgre6789</td>\n",
       "      <td>dgre6789@university.edu</td>\n",
       "      <td>david366green-pickering@outlook.com</td>\n",
       "      <td>2736225</td>\n",
       "      <td>2031</td>\n",
       "      <td>3/01/1999</td>\n",
       "      <td>19</td>\n",
       "      <td>8</td>\n",
       "      <td>Female</td>\n",
       "      <td>...</td>\n",
       "      <td>0</td>\n",
       "      <td>1</td>\n",
       "      <td>1</td>\n",
       "      <td>1</td>\n",
       "      <td>1</td>\n",
       "      <td>1</td>\n",
       "      <td>0</td>\n",
       "      <td>0</td>\n",
       "      <td>1</td>\n",
       "      <td>0</td>\n",
       "    </tr>\n",
       "    <tr>\n",
       "      <th>1</th>\n",
       "      <td>Suzanne Pearce</td>\n",
       "      <td>spea6271</td>\n",
       "      <td>spea6271@university.edu</td>\n",
       "      <td>suzannepearce@icloud.com</td>\n",
       "      <td>2726234</td>\n",
       "      <td>8599</td>\n",
       "      <td>12/09/1986</td>\n",
       "      <td>0</td>\n",
       "      <td>0</td>\n",
       "      <td>Male</td>\n",
       "      <td>...</td>\n",
       "      <td>1</td>\n",
       "      <td>0</td>\n",
       "      <td>0</td>\n",
       "      <td>1</td>\n",
       "      <td>1</td>\n",
       "      <td>1</td>\n",
       "      <td>0</td>\n",
       "      <td>0</td>\n",
       "      <td>0</td>\n",
       "      <td>0</td>\n",
       "    </tr>\n",
       "    <tr>\n",
       "      <th>2</th>\n",
       "      <td>Julie Gibson-Forrest</td>\n",
       "      <td>jgib9592</td>\n",
       "      <td>jgib9592@university.edu</td>\n",
       "      <td>julie35gibson-forrest@outlook.com</td>\n",
       "      <td>2784005</td>\n",
       "      <td>9337</td>\n",
       "      <td>15/03/1996</td>\n",
       "      <td>6</td>\n",
       "      <td>5</td>\n",
       "      <td>Female</td>\n",
       "      <td>...</td>\n",
       "      <td>0</td>\n",
       "      <td>1</td>\n",
       "      <td>0</td>\n",
       "      <td>1</td>\n",
       "      <td>1</td>\n",
       "      <td>1</td>\n",
       "      <td>1</td>\n",
       "      <td>0</td>\n",
       "      <td>1</td>\n",
       "      <td>0</td>\n",
       "    </tr>\n",
       "    <tr>\n",
       "      <th>3</th>\n",
       "      <td>Hannah Barnes</td>\n",
       "      <td>hbar4405</td>\n",
       "      <td>hbar4405@university.edu</td>\n",
       "      <td>hannah848barnes@outlook.com</td>\n",
       "      <td>2232137</td>\n",
       "      <td>8698</td>\n",
       "      <td>8/08/1997</td>\n",
       "      <td>0</td>\n",
       "      <td>0</td>\n",
       "      <td>Other</td>\n",
       "      <td>...</td>\n",
       "      <td>0</td>\n",
       "      <td>1</td>\n",
       "      <td>0</td>\n",
       "      <td>1</td>\n",
       "      <td>1</td>\n",
       "      <td>1</td>\n",
       "      <td>0</td>\n",
       "      <td>1</td>\n",
       "      <td>0</td>\n",
       "      <td>0</td>\n",
       "    </tr>\n",
       "    <tr>\n",
       "      <th>4</th>\n",
       "      <td>Maia Hansen</td>\n",
       "      <td>mhan6405</td>\n",
       "      <td>mhan6405@university.edu</td>\n",
       "      <td>maiahansen@yahoo.com</td>\n",
       "      <td>2197017</td>\n",
       "      <td>2381</td>\n",
       "      <td>1/02/1994</td>\n",
       "      <td>20</td>\n",
       "      <td>9</td>\n",
       "      <td>Male</td>\n",
       "      <td>...</td>\n",
       "      <td>1</td>\n",
       "      <td>1</td>\n",
       "      <td>0</td>\n",
       "      <td>0</td>\n",
       "      <td>0</td>\n",
       "      <td>1</td>\n",
       "      <td>1</td>\n",
       "      <td>0</td>\n",
       "      <td>1</td>\n",
       "      <td>1</td>\n",
       "    </tr>\n",
       "    <tr>\n",
       "      <th>...</th>\n",
       "      <td>...</td>\n",
       "      <td>...</td>\n",
       "      <td>...</td>\n",
       "      <td>...</td>\n",
       "      <td>...</td>\n",
       "      <td>...</td>\n",
       "      <td>...</td>\n",
       "      <td>...</td>\n",
       "      <td>...</td>\n",
       "      <td>...</td>\n",
       "      <td>...</td>\n",
       "      <td>...</td>\n",
       "      <td>...</td>\n",
       "      <td>...</td>\n",
       "      <td>...</td>\n",
       "      <td>...</td>\n",
       "      <td>...</td>\n",
       "      <td>...</td>\n",
       "      <td>...</td>\n",
       "      <td>...</td>\n",
       "      <td>...</td>\n",
       "    </tr>\n",
       "    <tr>\n",
       "      <th>495</th>\n",
       "      <td>Pauline Howell</td>\n",
       "      <td>phow2946</td>\n",
       "      <td>phow2946@university.edu</td>\n",
       "      <td>pauline333howell@outlook.com</td>\n",
       "      <td>2732191</td>\n",
       "      <td>5397</td>\n",
       "      <td>21/10/2000</td>\n",
       "      <td>1</td>\n",
       "      <td>1</td>\n",
       "      <td>Other</td>\n",
       "      <td>...</td>\n",
       "      <td>1</td>\n",
       "      <td>0</td>\n",
       "      <td>0</td>\n",
       "      <td>1</td>\n",
       "      <td>0</td>\n",
       "      <td>0</td>\n",
       "      <td>1</td>\n",
       "      <td>1</td>\n",
       "      <td>1</td>\n",
       "      <td>0</td>\n",
       "    </tr>\n",
       "    <tr>\n",
       "      <th>496</th>\n",
       "      <td>Hamish Paterson</td>\n",
       "      <td>hpat2066</td>\n",
       "      <td>hpat2066@university.edu</td>\n",
       "      <td>hamish452paterson@outlook.com</td>\n",
       "      <td>2794832</td>\n",
       "      <td>5354</td>\n",
       "      <td>9/03/1992</td>\n",
       "      <td>10</td>\n",
       "      <td>8</td>\n",
       "      <td>Male</td>\n",
       "      <td>...</td>\n",
       "      <td>1</td>\n",
       "      <td>1</td>\n",
       "      <td>0</td>\n",
       "      <td>0</td>\n",
       "      <td>1</td>\n",
       "      <td>0</td>\n",
       "      <td>0</td>\n",
       "      <td>0</td>\n",
       "      <td>1</td>\n",
       "      <td>0</td>\n",
       "    </tr>\n",
       "    <tr>\n",
       "      <th>497</th>\n",
       "      <td>Natasha Butler</td>\n",
       "      <td>nbut900</td>\n",
       "      <td>nbut900@university.edu</td>\n",
       "      <td>natashabutler@yahoo.com</td>\n",
       "      <td>2289142</td>\n",
       "      <td>6978</td>\n",
       "      <td>20/10/1996</td>\n",
       "      <td>1</td>\n",
       "      <td>0</td>\n",
       "      <td>Female</td>\n",
       "      <td>...</td>\n",
       "      <td>1</td>\n",
       "      <td>1</td>\n",
       "      <td>0</td>\n",
       "      <td>0</td>\n",
       "      <td>1</td>\n",
       "      <td>0</td>\n",
       "      <td>0</td>\n",
       "      <td>1</td>\n",
       "      <td>0</td>\n",
       "      <td>0</td>\n",
       "    </tr>\n",
       "    <tr>\n",
       "      <th>498</th>\n",
       "      <td>Amy Watt-Parkes</td>\n",
       "      <td>awat7941</td>\n",
       "      <td>awat7941@university.edu</td>\n",
       "      <td>amy_watt-parkes@yahoo.com</td>\n",
       "      <td>2722575</td>\n",
       "      <td>5778</td>\n",
       "      <td>12/10/1991</td>\n",
       "      <td>8</td>\n",
       "      <td>1</td>\n",
       "      <td>Male</td>\n",
       "      <td>...</td>\n",
       "      <td>0</td>\n",
       "      <td>1</td>\n",
       "      <td>1</td>\n",
       "      <td>0</td>\n",
       "      <td>0</td>\n",
       "      <td>1</td>\n",
       "      <td>0</td>\n",
       "      <td>0</td>\n",
       "      <td>1</td>\n",
       "      <td>0</td>\n",
       "    </tr>\n",
       "    <tr>\n",
       "      <th>499</th>\n",
       "      <td>Michele Hansen</td>\n",
       "      <td>mhan5093</td>\n",
       "      <td>mhan5093@university.edu</td>\n",
       "      <td>michele904hansen@gmail.com</td>\n",
       "      <td>2747150</td>\n",
       "      <td>9039</td>\n",
       "      <td>24/12/2003</td>\n",
       "      <td>12</td>\n",
       "      <td>7</td>\n",
       "      <td>Male</td>\n",
       "      <td>...</td>\n",
       "      <td>1</td>\n",
       "      <td>0</td>\n",
       "      <td>0</td>\n",
       "      <td>1</td>\n",
       "      <td>1</td>\n",
       "      <td>1</td>\n",
       "      <td>1</td>\n",
       "      <td>1</td>\n",
       "      <td>1</td>\n",
       "      <td>1</td>\n",
       "    </tr>\n",
       "  </tbody>\n",
       "</table>\n",
       "<p>500 rows × 24 columns</p>\n",
       "</div>"
      ],
      "text/plain": [
       "                 Full Name Student ID                    Email  \\\n",
       "0    David Green-Pickering   dgre6789  dgre6789@university.edu   \n",
       "1           Suzanne Pearce   spea6271  spea6271@university.edu   \n",
       "2     Julie Gibson-Forrest   jgib9592  jgib9592@university.edu   \n",
       "3            Hannah Barnes   hbar4405  hbar4405@university.edu   \n",
       "4              Maia Hansen   mhan6405  mhan6405@university.edu   \n",
       "..                     ...        ...                      ...   \n",
       "495         Pauline Howell   phow2946  phow2946@university.edu   \n",
       "496        Hamish Paterson   hpat2066  hpat2066@university.edu   \n",
       "497         Natasha Butler    nbut900   nbut900@university.edu   \n",
       "498        Amy Watt-Parkes   awat7941  awat7941@university.edu   \n",
       "499         Michele Hansen   mhan5093  mhan5093@university.edu   \n",
       "\n",
       "                         Preferred Email  Mobile Number   ZIP         DoB  \\\n",
       "0    david366green-pickering@outlook.com        2736225  2031   3/01/1999   \n",
       "1               suzannepearce@icloud.com        2726234  8599  12/09/1986   \n",
       "2      julie35gibson-forrest@outlook.com        2784005  9337  15/03/1996   \n",
       "3            hannah848barnes@outlook.com        2232137  8698   8/08/1997   \n",
       "4                   maiahansen@yahoo.com        2197017  2381   1/02/1994   \n",
       "..                                   ...            ...   ...         ...   \n",
       "495         pauline333howell@outlook.com        2732191  5397  21/10/2000   \n",
       "496        hamish452paterson@outlook.com        2794832  5354   9/03/1992   \n",
       "497              natashabutler@yahoo.com        2289142  6978  20/10/1996   \n",
       "498            amy_watt-parkes@yahoo.com        2722575  5778  12/10/1991   \n",
       "499           michele904hansen@gmail.com        2747150  9039  24/12/2003   \n",
       "\n",
       "     Sessions Offered  Sessions Attended  Gender  ... Self Harm Anxiety  \\\n",
       "0                  19                  8  Female  ...         0       1   \n",
       "1                   0                  0    Male  ...         1       0   \n",
       "2                   6                  5  Female  ...         0       1   \n",
       "3                   0                  0   Other  ...         0       1   \n",
       "4                  20                  9    Male  ...         1       1   \n",
       "..                ...                ...     ...  ...       ...     ...   \n",
       "495                 1                  1   Other  ...         1       0   \n",
       "496                10                  8    Male  ...         1       1   \n",
       "497                 1                  0  Female  ...         1       1   \n",
       "498                 8                  1    Male  ...         0       1   \n",
       "499                12                  7    Male  ...         1       0   \n",
       "\n",
       "     Depression  Eating Disorder  Health  Risk to Others  Anger  Alcohol  \\\n",
       "0             1                1       1               1      0        0   \n",
       "1             0                1       1               1      0        0   \n",
       "2             0                1       1               1      1        0   \n",
       "3             0                1       1               1      0        1   \n",
       "4             0                0       0               1      1        0   \n",
       "..          ...              ...     ...             ...    ...      ...   \n",
       "495           0                1       0               0      1        1   \n",
       "496           0                0       1               0      0        0   \n",
       "497           0                0       1               0      0        1   \n",
       "498           1                0       0               1      0        0   \n",
       "499           0                1       1               1      1        1   \n",
       "\n",
       "     Drugs  Smoking  \n",
       "0        1        0  \n",
       "1        0        0  \n",
       "2        1        0  \n",
       "3        0        0  \n",
       "4        1        1  \n",
       "..     ...      ...  \n",
       "495      1        0  \n",
       "496      1        0  \n",
       "497      0        0  \n",
       "498      1        0  \n",
       "499      1        1  \n",
       "\n",
       "[500 rows x 24 columns]"
      ]
     },
     "execution_count": 3,
     "metadata": {},
     "output_type": "execute_result"
    }
   ],
   "source": [
    "copy_data = data.copy()\n",
    "\n",
    "# Let's take a look at the dataset\n",
    "data"
   ]
  },
  {
   "cell_type": "code",
   "execution_count": null,
   "id": "af72e124-581f-490d-973c-6af7a57aa545",
   "metadata": {},
   "outputs": [],
   "source": []
  },
  {
   "cell_type": "markdown",
   "id": "ecb3c57a-7e78-47b2-ab19-77817415937b",
   "metadata": {},
   "source": [
    "### Preprocessing"
   ]
  },
  {
   "cell_type": "markdown",
   "id": "40909e08-e91f-464b-b889-40d40668762a",
   "metadata": {},
   "source": [
    "The researchers wants to analyse:\n",
    "- The spread of psychological issues with age, ethnicity, gender, study field, and session counts\n",
    "    \n",
    "In real life...What columns can you get rid of?\n",
    "- Not sure? You can always ask the external party what they exactly need to analyse. \n",
    "- And also you can refuse to share some columns.."
   ]
  },
  {
   "cell_type": "code",
   "execution_count": 4,
   "id": "f8a4f6d8-03aa-4cbc-8a85-2088a50987b5",
   "metadata": {
    "tags": []
   },
   "outputs": [],
   "source": [
    "def remove_columns():\n",
    "    data.drop(columns = ['Full Name', 'Student ID', 'Email', 'Preferred Email', 'Mobile Number', 'ZIP'], inplace = True)\n",
    "\n",
    "def calculate_age():\n",
    "    # Convert the 'DoB' column to datetime format\n",
    "    data['DoB'] = pd.to_datetime(data['DoB'], format='%d/%m/%Y')\n",
    "    \n",
    "    today = datetime.today()\n",
    "    data['DoB'] = data['DoB'].apply(lambda dob: today.year - dob.year - ((today.month, today.day) < (dob.month, dob.day)))\n",
    "    data.rename(columns={\"DoB\": \"Age\"}, inplace = True)\n",
    "\n",
    "# preprocess the data\n",
    "def preprocess_data():\n",
    "    remove_columns()\n",
    "    calculate_age()"
   ]
  },
  {
   "cell_type": "code",
   "execution_count": 5,
   "id": "7b6e8d43-8895-4385-ba10-f0804c8b8d08",
   "metadata": {},
   "outputs": [
    {
     "data": {
      "text/html": [
       "<div>\n",
       "<style scoped>\n",
       "    .dataframe tbody tr th:only-of-type {\n",
       "        vertical-align: middle;\n",
       "    }\n",
       "\n",
       "    .dataframe tbody tr th {\n",
       "        vertical-align: top;\n",
       "    }\n",
       "\n",
       "    .dataframe thead th {\n",
       "        text-align: right;\n",
       "    }\n",
       "</style>\n",
       "<table border=\"1\" class=\"dataframe\">\n",
       "  <thead>\n",
       "    <tr style=\"text-align: right;\">\n",
       "      <th></th>\n",
       "      <th>Age</th>\n",
       "      <th>Sessions Offered</th>\n",
       "      <th>Sessions Attended</th>\n",
       "      <th>Gender</th>\n",
       "      <th>Ethnicity</th>\n",
       "      <th>Study Field</th>\n",
       "      <th>Sexual Abuse</th>\n",
       "      <th>Suicidal</th>\n",
       "      <th>Self Harm</th>\n",
       "      <th>Anxiety</th>\n",
       "      <th>Depression</th>\n",
       "      <th>Eating Disorder</th>\n",
       "      <th>Health</th>\n",
       "      <th>Risk to Others</th>\n",
       "      <th>Anger</th>\n",
       "      <th>Alcohol</th>\n",
       "      <th>Drugs</th>\n",
       "      <th>Smoking</th>\n",
       "    </tr>\n",
       "  </thead>\n",
       "  <tbody>\n",
       "    <tr>\n",
       "      <th>0</th>\n",
       "      <td>26</td>\n",
       "      <td>19</td>\n",
       "      <td>8</td>\n",
       "      <td>Female</td>\n",
       "      <td>Asian</td>\n",
       "      <td>Creative Arts</td>\n",
       "      <td>1</td>\n",
       "      <td>0</td>\n",
       "      <td>0</td>\n",
       "      <td>1</td>\n",
       "      <td>1</td>\n",
       "      <td>1</td>\n",
       "      <td>1</td>\n",
       "      <td>1</td>\n",
       "      <td>0</td>\n",
       "      <td>0</td>\n",
       "      <td>1</td>\n",
       "      <td>0</td>\n",
       "    </tr>\n",
       "    <tr>\n",
       "      <th>1</th>\n",
       "      <td>38</td>\n",
       "      <td>0</td>\n",
       "      <td>0</td>\n",
       "      <td>Male</td>\n",
       "      <td>Asian</td>\n",
       "      <td>Arts</td>\n",
       "      <td>0</td>\n",
       "      <td>1</td>\n",
       "      <td>1</td>\n",
       "      <td>0</td>\n",
       "      <td>0</td>\n",
       "      <td>1</td>\n",
       "      <td>1</td>\n",
       "      <td>1</td>\n",
       "      <td>0</td>\n",
       "      <td>0</td>\n",
       "      <td>0</td>\n",
       "      <td>0</td>\n",
       "    </tr>\n",
       "    <tr>\n",
       "      <th>2</th>\n",
       "      <td>28</td>\n",
       "      <td>6</td>\n",
       "      <td>5</td>\n",
       "      <td>Female</td>\n",
       "      <td>Asian</td>\n",
       "      <td>Business</td>\n",
       "      <td>0</td>\n",
       "      <td>1</td>\n",
       "      <td>0</td>\n",
       "      <td>1</td>\n",
       "      <td>0</td>\n",
       "      <td>1</td>\n",
       "      <td>1</td>\n",
       "      <td>1</td>\n",
       "      <td>1</td>\n",
       "      <td>0</td>\n",
       "      <td>1</td>\n",
       "      <td>0</td>\n",
       "    </tr>\n",
       "    <tr>\n",
       "      <th>3</th>\n",
       "      <td>27</td>\n",
       "      <td>0</td>\n",
       "      <td>0</td>\n",
       "      <td>Other</td>\n",
       "      <td>Asian</td>\n",
       "      <td>Education and Social Work</td>\n",
       "      <td>0</td>\n",
       "      <td>0</td>\n",
       "      <td>0</td>\n",
       "      <td>1</td>\n",
       "      <td>0</td>\n",
       "      <td>1</td>\n",
       "      <td>1</td>\n",
       "      <td>1</td>\n",
       "      <td>0</td>\n",
       "      <td>1</td>\n",
       "      <td>0</td>\n",
       "      <td>0</td>\n",
       "    </tr>\n",
       "    <tr>\n",
       "      <th>4</th>\n",
       "      <td>31</td>\n",
       "      <td>20</td>\n",
       "      <td>9</td>\n",
       "      <td>Male</td>\n",
       "      <td>Maori</td>\n",
       "      <td>Business</td>\n",
       "      <td>1</td>\n",
       "      <td>0</td>\n",
       "      <td>1</td>\n",
       "      <td>1</td>\n",
       "      <td>0</td>\n",
       "      <td>0</td>\n",
       "      <td>0</td>\n",
       "      <td>1</td>\n",
       "      <td>1</td>\n",
       "      <td>0</td>\n",
       "      <td>1</td>\n",
       "      <td>1</td>\n",
       "    </tr>\n",
       "    <tr>\n",
       "      <th>...</th>\n",
       "      <td>...</td>\n",
       "      <td>...</td>\n",
       "      <td>...</td>\n",
       "      <td>...</td>\n",
       "      <td>...</td>\n",
       "      <td>...</td>\n",
       "      <td>...</td>\n",
       "      <td>...</td>\n",
       "      <td>...</td>\n",
       "      <td>...</td>\n",
       "      <td>...</td>\n",
       "      <td>...</td>\n",
       "      <td>...</td>\n",
       "      <td>...</td>\n",
       "      <td>...</td>\n",
       "      <td>...</td>\n",
       "      <td>...</td>\n",
       "      <td>...</td>\n",
       "    </tr>\n",
       "    <tr>\n",
       "      <th>495</th>\n",
       "      <td>24</td>\n",
       "      <td>1</td>\n",
       "      <td>1</td>\n",
       "      <td>Other</td>\n",
       "      <td>Asian</td>\n",
       "      <td>Law</td>\n",
       "      <td>1</td>\n",
       "      <td>1</td>\n",
       "      <td>1</td>\n",
       "      <td>0</td>\n",
       "      <td>0</td>\n",
       "      <td>1</td>\n",
       "      <td>0</td>\n",
       "      <td>0</td>\n",
       "      <td>1</td>\n",
       "      <td>1</td>\n",
       "      <td>1</td>\n",
       "      <td>0</td>\n",
       "    </tr>\n",
       "    <tr>\n",
       "      <th>496</th>\n",
       "      <td>32</td>\n",
       "      <td>10</td>\n",
       "      <td>8</td>\n",
       "      <td>Male</td>\n",
       "      <td>Asian</td>\n",
       "      <td>Arts</td>\n",
       "      <td>0</td>\n",
       "      <td>0</td>\n",
       "      <td>1</td>\n",
       "      <td>1</td>\n",
       "      <td>0</td>\n",
       "      <td>0</td>\n",
       "      <td>1</td>\n",
       "      <td>0</td>\n",
       "      <td>0</td>\n",
       "      <td>0</td>\n",
       "      <td>1</td>\n",
       "      <td>0</td>\n",
       "    </tr>\n",
       "    <tr>\n",
       "      <th>497</th>\n",
       "      <td>28</td>\n",
       "      <td>1</td>\n",
       "      <td>0</td>\n",
       "      <td>Female</td>\n",
       "      <td>Pacific</td>\n",
       "      <td>Education and Social Work</td>\n",
       "      <td>0</td>\n",
       "      <td>0</td>\n",
       "      <td>1</td>\n",
       "      <td>1</td>\n",
       "      <td>0</td>\n",
       "      <td>0</td>\n",
       "      <td>1</td>\n",
       "      <td>0</td>\n",
       "      <td>0</td>\n",
       "      <td>1</td>\n",
       "      <td>0</td>\n",
       "      <td>0</td>\n",
       "    </tr>\n",
       "    <tr>\n",
       "      <th>498</th>\n",
       "      <td>33</td>\n",
       "      <td>8</td>\n",
       "      <td>1</td>\n",
       "      <td>Male</td>\n",
       "      <td>European</td>\n",
       "      <td>Science</td>\n",
       "      <td>1</td>\n",
       "      <td>0</td>\n",
       "      <td>0</td>\n",
       "      <td>1</td>\n",
       "      <td>1</td>\n",
       "      <td>0</td>\n",
       "      <td>0</td>\n",
       "      <td>1</td>\n",
       "      <td>0</td>\n",
       "      <td>0</td>\n",
       "      <td>1</td>\n",
       "      <td>0</td>\n",
       "    </tr>\n",
       "    <tr>\n",
       "      <th>499</th>\n",
       "      <td>21</td>\n",
       "      <td>12</td>\n",
       "      <td>7</td>\n",
       "      <td>Male</td>\n",
       "      <td>Asian</td>\n",
       "      <td>Bioengineering</td>\n",
       "      <td>1</td>\n",
       "      <td>1</td>\n",
       "      <td>1</td>\n",
       "      <td>0</td>\n",
       "      <td>0</td>\n",
       "      <td>1</td>\n",
       "      <td>1</td>\n",
       "      <td>1</td>\n",
       "      <td>1</td>\n",
       "      <td>1</td>\n",
       "      <td>1</td>\n",
       "      <td>1</td>\n",
       "    </tr>\n",
       "  </tbody>\n",
       "</table>\n",
       "<p>500 rows × 18 columns</p>\n",
       "</div>"
      ],
      "text/plain": [
       "     Age  Sessions Offered  Sessions Attended  Gender Ethnicity  \\\n",
       "0     26                19                  8  Female     Asian   \n",
       "1     38                 0                  0    Male     Asian   \n",
       "2     28                 6                  5  Female     Asian   \n",
       "3     27                 0                  0   Other     Asian   \n",
       "4     31                20                  9    Male     Maori   \n",
       "..   ...               ...                ...     ...       ...   \n",
       "495   24                 1                  1   Other     Asian   \n",
       "496   32                10                  8    Male     Asian   \n",
       "497   28                 1                  0  Female   Pacific   \n",
       "498   33                 8                  1    Male  European   \n",
       "499   21                12                  7    Male     Asian   \n",
       "\n",
       "                   Study Field  Sexual Abuse  Suicidal  Self Harm  Anxiety  \\\n",
       "0                Creative Arts             1         0          0        1   \n",
       "1                         Arts             0         1          1        0   \n",
       "2                     Business             0         1          0        1   \n",
       "3    Education and Social Work             0         0          0        1   \n",
       "4                     Business             1         0          1        1   \n",
       "..                         ...           ...       ...        ...      ...   \n",
       "495                        Law             1         1          1        0   \n",
       "496                       Arts             0         0          1        1   \n",
       "497  Education and Social Work             0         0          1        1   \n",
       "498                    Science             1         0          0        1   \n",
       "499             Bioengineering             1         1          1        0   \n",
       "\n",
       "     Depression  Eating Disorder  Health  Risk to Others  Anger  Alcohol  \\\n",
       "0             1                1       1               1      0        0   \n",
       "1             0                1       1               1      0        0   \n",
       "2             0                1       1               1      1        0   \n",
       "3             0                1       1               1      0        1   \n",
       "4             0                0       0               1      1        0   \n",
       "..          ...              ...     ...             ...    ...      ...   \n",
       "495           0                1       0               0      1        1   \n",
       "496           0                0       1               0      0        0   \n",
       "497           0                0       1               0      0        1   \n",
       "498           1                0       0               1      0        0   \n",
       "499           0                1       1               1      1        1   \n",
       "\n",
       "     Drugs  Smoking  \n",
       "0        1        0  \n",
       "1        0        0  \n",
       "2        1        0  \n",
       "3        0        0  \n",
       "4        1        1  \n",
       "..     ...      ...  \n",
       "495      1        0  \n",
       "496      1        0  \n",
       "497      0        0  \n",
       "498      1        0  \n",
       "499      1        1  \n",
       "\n",
       "[500 rows x 18 columns]"
      ]
     },
     "execution_count": 5,
     "metadata": {},
     "output_type": "execute_result"
    }
   ],
   "source": [
    "#preprocess the dataset\n",
    "preprocess_data()\n",
    "data"
   ]
  },
  {
   "cell_type": "markdown",
   "id": "8e2437bd-829f-4959-a676-fd77df5d4fc0",
   "metadata": {},
   "source": [
    "### Generating Differntial Private Result"
   ]
  },
  {
   "cell_type": "markdown",
   "id": "21fd6cff-c7dc-4912-a7ea-a2ce409b286e",
   "metadata": {},
   "source": [
    "How does laplace ditrubution looks like"
   ]
  },
  {
   "cell_type": "markdown",
   "id": "f641b6cb-09c7-487b-8061-a81c4248d97a",
   "metadata": {},
   "source": [
    "<font color=\"red\">F</font>(D) = <font color=\"green\">f</font>(d) + random laplace noise <br>\n",
    "noisy_result = real_result + random laplace noise"
   ]
  },
  {
   "cell_type": "markdown",
   "id": "3fa0b53e-4d56-4ec7-b82b-9a9139da32fa",
   "metadata": {},
   "source": [
    "**Query1:** How many students are above 24 years old?"
   ]
  },
  {
   "cell_type": "code",
   "execution_count": 15,
   "id": "ca5c9028-3396-496b-b140-84375ad86cfe",
   "metadata": {},
   "outputs": [
    {
     "data": {
      "text/plain": [
       "362"
      ]
     },
     "execution_count": 15,
     "metadata": {},
     "output_type": "execute_result"
    }
   ],
   "source": [
    "real_result = len(data[data['Age'] > 24])\n",
    "real_result"
   ]
  },
  {
   "cell_type": "code",
   "execution_count": 9,
   "id": "32f92c06-cfe3-4f62-b17d-062f28c0fb6e",
   "metadata": {
    "tags": []
   },
   "outputs": [],
   "source": [
    "sensitivity_count = 1\n",
    "epsilon_count = 0.1"
   ]
  },
  {
   "cell_type": "code",
   "execution_count": 10,
   "id": "3b1d609a-56df-4a90-8339-8ec0461dcef3",
   "metadata": {
    "tags": []
   },
   "outputs": [],
   "source": [
    "def get_noisy_result(real_result, sensitivity, epsilon):\n",
    "    noisy_result = real_result + np.random.laplace(loc=0, scale=sensitivity/epsilon)\n",
    "    return noisy_result"
   ]
  },
  {
   "cell_type": "code",
   "execution_count": 14,
   "id": "835b0b7c-f4a9-4452-98fd-2330be96d57f",
   "metadata": {},
   "outputs": [
    {
     "data": {
      "text/plain": [
       "365.08194860328814"
      ]
     },
     "execution_count": 14,
     "metadata": {},
     "output_type": "execute_result"
    }
   ],
   "source": [
    "get_noisy_result(real_result, sensitivity_count, epsilon_count)"
   ]
  },
  {
   "cell_type": "markdown",
   "id": "19925cb3-8751-4d9f-bb98-e15a2c57db4e",
   "metadata": {},
   "source": [
    "##### Change the epsilon to 2 and see the noisy  result"
   ]
  },
  {
   "cell_type": "code",
   "execution_count": 16,
   "id": "c9a836f5-f3dc-47e8-98b0-57c3d93c695d",
   "metadata": {},
   "outputs": [
    {
     "data": {
      "text/plain": [
       "361.98851507978844"
      ]
     },
     "execution_count": 16,
     "metadata": {},
     "output_type": "execute_result"
    }
   ],
   "source": [
    "get_noisy_result(real_result, sensitivity_count, 2)"
   ]
  },
  {
   "cell_type": "markdown",
   "id": "af61d650-53c8-4f0b-9a23-88096ef44e93",
   "metadata": {},
   "source": [
    "##### Change the epsilon to 0.01 and see the noisy  result"
   ]
  },
  {
   "cell_type": "code",
   "execution_count": 17,
   "id": "15b64a81-b575-4baa-9ffb-abc0f3753d09",
   "metadata": {},
   "outputs": [
    {
     "data": {
      "text/plain": [
       "387.8877164024786"
      ]
     },
     "execution_count": 17,
     "metadata": {},
     "output_type": "execute_result"
    }
   ],
   "source": [
    "get_noisy_result(real_result, sensitivity_count, 0.01)"
   ]
  },
  {
   "cell_type": "markdown",
   "id": "10f41535-5a85-4a69-9654-4bec3a10e253",
   "metadata": {},
   "source": [
    "#### Question 1"
   ]
  },
  {
   "cell_type": "markdown",
   "id": "bc9ee2f3-8124-473c-ab63-6d59cb02ff11",
   "metadata": {
    "tags": []
   },
   "source": [
    "What did you observe when you change the epsilon?"
   ]
  },
  {
   "cell_type": "markdown",
   "id": "fecd8676-ff94-4e40-b2ba-b57da5702c4d",
   "metadata": {
    "tags": []
   },
   "source": [
    "<font color=\"blue\"> Write your answer </font>"
   ]
  },
  {
   "cell_type": "markdown",
   "id": "d04907b2-9f9f-487a-9960-01a29536db0c",
   "metadata": {},
   "source": [
    "##### Run get_noisy_result() 20 times and print the outputs"
   ]
  },
  {
   "cell_type": "code",
   "execution_count": 18,
   "id": "9a051b03-bd14-4bf0-85db-2867e359ee99",
   "metadata": {
    "tags": []
   },
   "outputs": [],
   "source": [
    "def get_multiple_noisy_values(real_result, sensitivity, epsilon, times):\n",
    "    values = []\n",
    "    for _ in range(times):\n",
    "        values.append(get_noisy_result(real_result, sensitivity,epsilon))\n",
    "    \n",
    "    return values"
   ]
  },
  {
   "cell_type": "code",
   "execution_count": 19,
   "id": "5d9d4091-23e8-4757-bc36-e792ec7110e6",
   "metadata": {
    "tags": []
   },
   "outputs": [
    {
     "data": {
      "text/plain": [
       "[376.1972707718033,\n",
       " 358.29335852839273,\n",
       " 381.87403487967265,\n",
       " 372.09459117361996,\n",
       " 360.6664099985505,\n",
       " 370.0739732161303,\n",
       " 375.1703197918015,\n",
       " 354.19436118091426,\n",
       " 360.9917755289729,\n",
       " 379.05567013610147,\n",
       " 362.2649804231147,\n",
       " 370.97118297157715,\n",
       " 367.1094204447532,\n",
       " 344.3461408926622,\n",
       " 373.9661556301809,\n",
       " 368.3625267074956,\n",
       " 359.7707088260564,\n",
       " 359.28128896665123,\n",
       " 375.97696531237784,\n",
       " 369.32630065399536]"
      ]
     },
     "execution_count": 19,
     "metadata": {},
     "output_type": "execute_result"
    }
   ],
   "source": [
    "get_multiple_noisy_values(real_result, sensitivity_count, epsilon_count, 20)"
   ]
  },
  {
   "cell_type": "markdown",
   "id": "979b27d0-0758-4ffb-a296-28b38c0bcd6d",
   "metadata": {
    "tags": []
   },
   "source": [
    "##### Draw the <font color=\"red\">F</font>(D) graph for Query 1"
   ]
  },
  {
   "cell_type": "code",
   "execution_count": 36,
   "id": "d6371381-ebf3-4415-b5a7-2dd5299f9569",
   "metadata": {},
   "outputs": [
    {
     "data": {
      "image/png": "[encoded data removed]",
      "text/plain": [
       "<Figure size 640x480 with 1 Axes>"
      ]
     },
     "metadata": {},
     "output_type": "display_data"
    }
   ],
   "source": [
    "noiseList = get_multiple_noisy_values(real_result, sensitivity_count, epsilon_count, 200000)\n",
    "noiseList2 = get_multiple_noisy_values(real_result, sensitivity_count, 2, 200000)\n",
    "noiseList3 = get_multiple_noisy_values(real_result, sensitivity_count, 0.01, 200000)\n",
    "\n",
    "plt.hist(noiseList, bins=50, label = 'Epsilon = 0.1');\n",
    "plt.hist(noiseList2, bins=50, label = 'Epsilon = 2');\n",
    "plt.hist(noiseList3, bins=50, alpha=0.25,label = 'Epsilon = 0.01');\n",
    "\n",
    "plt.xlabel('Noise')\n",
    "plt.ylabel('Count')\n",
    "plt.legend()\n",
    "plt.show()"
   ]
  },
  {
   "cell_type": "markdown",
   "id": "0056a4b0-864e-4091-a20b-43ab1fb987f6",
   "metadata": {
    "tags": []
   },
   "source": [
    "#### Noisy Result for the Neighbour"
   ]
  },
  {
   "cell_type": "markdown",
   "id": "fdb18a05-f9f4-48ff-8817-260c7a4b791d",
   "metadata": {},
   "source": [
    "- After some time, Jason ask the university to remove his data from the counselling sessions\n",
    "- So now the dataset size is one record less\n",
    "- Jason's DoB 21/06/1998 = 26"
   ]
  },
  {
   "cell_type": "code",
   "execution_count": 22,
   "id": "6a95e46c-5d1e-42ba-89c3-f21d2811370e",
   "metadata": {
    "tags": []
   },
   "outputs": [],
   "source": [
    "jason_index = copy_data[copy_data['Full Name'] == \"Jason Read-Joe\"].index\n",
    "neighbour = data.drop(jason_index)"
   ]
  },
  {
   "cell_type": "code",
   "execution_count": 23,
   "id": "2cebd42b-4922-4c83-b151-26445852f3e9",
   "metadata": {},
   "outputs": [
    {
     "data": {
      "text/plain": [
       "361"
      ]
     },
     "execution_count": 23,
     "metadata": {},
     "output_type": "execute_result"
    }
   ],
   "source": [
    "real_result_neighbour = len(neighbour[neighbour['Age'] > 24])\n",
    "real_result_neighbour"
   ]
  },
  {
   "cell_type": "code",
   "execution_count": 24,
   "id": "b6aa8a61-fdd8-47e6-ad10-fb21a8479b41",
   "metadata": {
    "tags": []
   },
   "outputs": [],
   "source": [
    "sensitivity_count_neighbour = 1\n",
    "epsilon_count_neighbour = 0.1"
   ]
  },
  {
   "cell_type": "code",
   "execution_count": 29,
   "id": "4aa7b171-1289-462b-8d84-5f69de2c718e",
   "metadata": {},
   "outputs": [
    {
     "data": {
      "text/plain": [
       "352.86954856820813"
      ]
     },
     "execution_count": 29,
     "metadata": {},
     "output_type": "execute_result"
    }
   ],
   "source": [
    "get_noisy_result(real_result_neighbour, sensitivity_count_neighbour, epsilon_count_neighbour)"
   ]
  },
  {
   "cell_type": "markdown",
   "id": "e105540b-ce37-470b-b6f1-e5b401d61925",
   "metadata": {
    "tags": []
   },
   "source": [
    "##### Draw the <font color=\"red\">F</font>(D) graph for both datasets"
   ]
  },
  {
   "cell_type": "code",
   "execution_count": 37,
   "id": "91ac9362-5ade-4ded-9616-87d819ebf7b4",
   "metadata": {},
   "outputs": [
    {
     "data": {
      "image/png": "[encoded data removed]",
      "text/plain": [
       "<Figure size 640x480 with 1 Axes>"
      ]
     },
     "metadata": {},
     "output_type": "display_data"
    }
   ],
   "source": [
    "noiseList4 = get_multiple_noisy_values(real_result_neighbour, sensitivity_count_neighbour, epsilon_count_neighbour, 200000)\n",
    "\n",
    "plt.hist(noiseList, bins=25, label = 'Original Dataset');\n",
    "plt.hist(noiseList4, bins=25,alpha=0.5, label = 'Neighbouring Dataset');\n",
    "\n",
    "plt.xlabel('Noise')\n",
    "plt.ylabel('Count')\n",
    "plt.legend()\n",
    "plt.show()"
   ]
  },
  {
   "cell_type": "markdown",
   "id": "f05bff83-0f9c-4c17-a577-0808596cf263",
   "metadata": {},
   "source": [
    "# Clipping"
   ]
  },
  {
   "cell_type": "markdown",
   "id": "bc13ac89-d3de-462b-99d4-d7b48b27c345",
   "metadata": {
    "tags": []
   },
   "source": [
    "**Query2:** What is the total age of students that have anxiety?"
   ]
  },
  {
   "cell_type": "code",
   "execution_count": 38,
   "id": "f62c5231-c281-40f9-a96f-318c06c2a762",
   "metadata": {},
   "outputs": [
    {
     "data": {
      "text/plain": [
       "6867"
      ]
     },
     "execution_count": 38,
     "metadata": {},
     "output_type": "execute_result"
    }
   ],
   "source": [
    "real_age_anxiety = data[data['Anxiety'] == 1]['Age'].sum()\n",
    "real_age_anxiety"
   ]
  },
  {
   "cell_type": "markdown",
   "id": "1d4b2d56-cfe7-4f07-9620-1056e3b162e0",
   "metadata": {},
   "source": [
    "What is the sensivity of this query?\n",
    "\n",
    "some of the neighbouring datasets....\n",
    "- Adding a new student: with anxiety => total age anxiety depends on that student's age\n",
    "- Adding a new student: no anxiety => total age anxiety doesn't change\n",
    "- Removing a student: with anxiety =>total age anxiety depends on that student's age\n",
    "<br>.....................\n",
    "\n",
    "It is hard to tell the sensivity of queries that does not have fixed lower or upper bounds of the query results"
   ]
  },
  {
   "cell_type": "markdown",
   "id": "c4ecfdbd-7ae8-4ccd-baa0-4081a0316760",
   "metadata": {
    "tags": []
   },
   "source": [
    "##### Query 2 Sensitivity"
   ]
  },
  {
   "cell_type": "markdown",
   "id": "483ce80e-0ce7-4690-8101-3b307861a659",
   "metadata": {
    "tags": []
   },
   "source": [
    "###### Find the Upper limit of Age - Slide 29"
   ]
  },
  {
   "cell_type": "code",
   "execution_count": 43,
   "id": "48ed0aaa-b728-4eba-98ad-0146e1c94bb6",
   "metadata": {},
   "outputs": [
    {
     "data": {
      "image/png": "[encoded data removed]",
      "text/plain": [
       "<Figure size 640x480 with 1 Axes>"
      ]
     },
     "metadata": {},
     "output_type": "display_data"
    }
   ],
   "source": [
    "results = []\n",
    "\n",
    "for i in range(100):\n",
    "    age_sum = data[data['Anxiety'] == 1]['Age'].clip(lower = 0, upper = i).sum()\n",
    "    # increase the epsilon and observe how the chart changes when the scale changes\n",
    "    noisy_age_sum = age_sum + np.random.laplace(loc=0, scale= i/0.9)\n",
    "\n",
    "    results.append(noisy_age_sum)\n",
    "\n",
    "plt.plot(results)\n",
    "plt.xlabel('i')\n",
    "plt.ylabel('Total Age of students with anxiety');"
   ]
  },
  {
   "cell_type": "code",
   "execution_count": 44,
   "id": "20c4de99-333b-417d-9862-e1c7088d4ce1",
   "metadata": {
    "tags": []
   },
   "outputs": [],
   "source": [
    "sensitivty_age_anxiety = 40 - 0"
   ]
  },
  {
   "cell_type": "code",
   "execution_count": 45,
   "id": "68c9d301-3e2b-4a9a-87ee-22bca83445e5",
   "metadata": {},
   "outputs": [
    {
     "data": {
      "text/plain": [
       "7726.210189253599"
      ]
     },
     "execution_count": 45,
     "metadata": {},
     "output_type": "execute_result"
    }
   ],
   "source": [
    "noisy_age_anxiety = real_age_anxiety + np.random.laplace(loc=0 , scale= sensitivty_age_anxiety/0.1)\n",
    "noisy_age_anxiety"
   ]
  }
 ],
 "metadata": {
  "kernelspec": {
   "display_name": "Python 3 (ipykernel)",
   "language": "python",
   "name": "python3"
  },
  "language_info": {
   "codemirror_mode": {
    "name": "ipython",
    "version": 3
   },
   "file_extension": ".py",
   "mimetype": "text/x-python",
   "name": "python",
   "nbconvert_exporter": "python",
   "pygments_lexer": "ipython3",
   "version": "3.11.5"
  }
 },
 "nbformat": 4,
 "nbformat_minor": 5
}
